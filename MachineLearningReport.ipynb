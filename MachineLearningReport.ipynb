{
 "cells": [
  {
   "cell_type": "code",
   "execution_count": 1,
   "metadata": {
    "collapsed": true
   },
   "outputs": [],
   "source": [
    "import numpy as np\n",
    "import pandas as pd\n",
    "import collections\n",
    "import matplotlib.pyplot as plt\n",
    "%matplotlib inline"
   ]
  },
  {
   "cell_type": "markdown",
   "metadata": {},
   "source": [
    "## 問題1"
   ]
  },
  {
   "cell_type": "code",
   "execution_count": 2,
   "metadata": {
    "collapsed": false
   },
   "outputs": [],
   "source": [
    "# dataset 4\n",
    "n = 200\n",
    "x_d4 = 3 * (np.random.rand(n, 4) - 0.5)\n",
    "y_d4 = (2 * x_d4[:, 0] - 1 * x_d4[:,1] + 0.5 + 0.5 * np.random.randn(n)) > 0\n",
    "y_d4 = 2 * y_d4 -1\n",
    "lam = 0.01\n",
    "w = np.random.rand(4) - 0.5"
   ]
  },
  {
   "cell_type": "code",
   "execution_count": 3,
   "metadata": {
    "collapsed": true
   },
   "outputs": [],
   "source": [
    "def function(w):\n",
    "    return np.array([1 if np.dot(x_d4[i], w) > 0 else -1 for i in range(200)])\n",
    "\n",
    "def loss_J(w):\n",
    "    return np.sum([np.log(1+np.exp(-y_d4[i]*np.dot(x_d4[i], w))) for i in range(200)]) + lam*np.dot(w, w)\n",
    "\n",
    "def gradient_J(w):\n",
    "    return np.sum([(np.exp(-y_d4[i]*np.dot(x_d4[i], w))*(-y_d4[i]*x_d4[i])) / (1+np.exp(-y_d4[i]*np.dot(x_d4[i], w))) for i in range(200)]) + 2*lam*w\n",
    "\n",
    "def double_gradient_J(w):\n",
    "    matrix_i = np.zeros([4,4])\n",
    "    for i in range(200):\n",
    "        matrix_i = matrix_i + ((np.exp(-y_d4[i]*np.dot(x_d4[i], w))/(1+np.exp(-y_d4[i]*np.dot(x_d4[i], w))))*np.multiply([list(x) for x in list(zip(x_d4[i]))], x_d4[i]))\n",
    "    return matrix_i + 2*lam*np.eye(4)"
   ]
  },
  {
   "cell_type": "code",
   "execution_count": 4,
   "metadata": {
    "collapsed": false
   },
   "outputs": [],
   "source": [
    "def count_pattern(w):\n",
    "    f = function(w)\n",
    "    print(\"[1, 1]: \"+str(sum([1 if y_d4[i] == 1 and f[i] == 1 else 0 for i in range(200)])))\n",
    "    print(\"[1, -1]: \"+str(sum([1 if y_d4[i] == 1 and f[i] == -1 else 0 for i in range(200)])))\n",
    "    print(\"[-1, 1]: \"+str(sum([1 if y_d4[i] == -1 and f[i] == 1 else 0 for i in range(200)])))\n",
    "    print(\"[-1, -1]: \"+str(sum([1 if y_d4[i] == -1 and f[i] == -1 else 0 for i in range(200)])))"
   ]
  },
  {
   "cell_type": "code",
   "execution_count": 5,
   "metadata": {
    "collapsed": false
   },
   "outputs": [
    {
     "name": "stdout",
     "output_type": "stream",
     "text": [
      "[1, 1]: 52\n",
      "[1, -1]: 66\n",
      "[-1, 1]: 52\n",
      "[-1, -1]: 30\n"
     ]
    }
   ],
   "source": [
    "count_pattern(w)"
   ]
  },
  {
   "cell_type": "markdown",
   "metadata": {},
   "source": [
    "### 1-1:最急降下法"
   ]
  },
  {
   "cell_type": "code",
   "execution_count": 13,
   "metadata": {
    "collapsed": false,
    "scrolled": true
   },
   "outputs": [
    {
     "name": "stdout",
     "output_type": "stream",
     "text": [
      "iteration 0 loss: 149.115223856\n",
      "iteration 100 loss: 149.06277059\n",
      "iteration 200 loss: 149.011109212\n",
      "iteration 300 loss: 148.96023876\n",
      "iteration 400 loss: 148.910158257\n",
      "iteration 500 loss: 148.860866715\n",
      "iteration 600 loss: 148.81236313\n",
      "iteration 700 loss: 148.764646487\n",
      "iteration 800 loss: 148.717715758\n",
      "iteration 900 loss: 148.671569901\n",
      "optimization w : [-0.03164828  0.19768596  0.20603735  0.28036929]\n"
     ]
    }
   ],
   "source": [
    "alpha = 1e-6\n",
    "iteration_max = 1000\n",
    "w_sgd_hist = []\n",
    "loss_hist_sgd = []\n",
    "sgd_w = w\n",
    "\n",
    "for i in range(iteration_max):\n",
    "    w_sgd_hist.append(sgd_w)\n",
    "    loss_hist_sgd.append(loss_J(sgd_w))\n",
    "    if i % 100 == 0:\n",
    "        print(\"iteration \"+str(i)+\" loss: \"+str(loss_J(sgd_w)))\n",
    "        \n",
    "    sgd_w_min = sgd_w - alpha * gradient_J(w)\n",
    "    \n",
    "    if np.linalg.norm(sgd_w_min - sgd_w, ord=1) < alpha:\n",
    "        sgd_w = sgd_w_min\n",
    "        break\n",
    "    \n",
    "    sgd_w = sgd_w_min\n",
    "\n",
    "w_sgd_hist.append(sgd_w)\n",
    "loss_hist_sgd.append(loss_J(sgd_w))\n",
    "\n",
    "print(\"optimization w : \"+str(sgd_w))"
   ]
  },
  {
   "cell_type": "code",
   "execution_count": 14,
   "metadata": {
    "collapsed": false
   },
   "outputs": [
    {
     "name": "stdout",
     "output_type": "stream",
     "text": [
      "[1, 1]: 55\n",
      "[1, -1]: 63\n",
      "[-1, 1]: 47\n",
      "[-1, -1]: 35\n"
     ]
    }
   ],
   "source": [
    "count_pattern(sgd_w)"
   ]
  },
  {
   "cell_type": "markdown",
   "metadata": {
    "collapsed": false
   },
   "source": [
    "### 1-2 Newton法"
   ]
  },
  {
   "cell_type": "code",
   "execution_count": 15,
   "metadata": {
    "collapsed": false
   },
   "outputs": [
    {
     "name": "stdout",
     "output_type": "stream",
     "text": [
      "iteration 0 loss: 149.115223856\n",
      "iteration 100 loss: 161.047032587\n",
      "iteration 200 loss: 160.401322314\n",
      "iteration 300 loss: 159.768835155\n",
      "iteration 400 loss: 159.149342162\n",
      "iteration 500 loss: 158.542619284\n",
      "iteration 600 loss: 157.948445056\n",
      "iteration 700 loss: 157.3666006\n",
      "iteration 800 loss: 156.796869621\n",
      "iteration 900 loss: 156.239038398\n"
     ]
    }
   ],
   "source": [
    "w_newton = w\n",
    "w_newton_hist = []\n",
    "loss_hist_newton = []\n",
    "for i in range(1000):\n",
    "    w_newton_hist.append(w_newton)\n",
    "    loss_hist_newton.append(loss_J(w_newton))\n",
    "    if i % 100 == 0:\n",
    "        print(\"iteration \"+str(i)+\" loss: \"+str(loss_J(w_newton)))\n",
    "    w_delta = np.linalg.solve(double_gradient_J(w_newton), -gradient_J(w_newton))\n",
    "    w_newton = w_newton + w_delta\n",
    "\n",
    "    if np.linalg.norm(w_delta) < 1e-10:\n",
    "        break\n",
    "\n",
    "w_newton_hist.append(w_newton)\n",
    "loss_hist_newton.append(loss_J(w_newton))"
   ]
  },
  {
   "cell_type": "code",
   "execution_count": 16,
   "metadata": {
    "collapsed": false
   },
   "outputs": [
    {
     "name": "stdout",
     "output_type": "stream",
     "text": [
      "optimization w: [ 0.27302821  0.45409448  0.48684547  0.56285119]\n"
     ]
    }
   ],
   "source": [
    "loss_min = min(loss_hist_newton)\n",
    "w_newton_min = w_newton_hist[np.argmin(loss_hist_newton)]\n",
    "        \n",
    "print(\"optimization w: \"+str(w_newton_min))\n",
    "w_newton = w_newton_min"
   ]
  },
  {
   "cell_type": "code",
   "execution_count": 17,
   "metadata": {
    "collapsed": false
   },
   "outputs": [
    {
     "name": "stdout",
     "output_type": "stream",
     "text": [
      "[1, 1]: 67\n",
      "[1, -1]: 51\n",
      "[-1, 1]: 40\n",
      "[-1, -1]: 42\n"
     ]
    }
   ],
   "source": [
    "count_pattern(w_newton)"
   ]
  },
  {
   "cell_type": "markdown",
   "metadata": {},
   "source": [
    "### 1-3 loss plot"
   ]
  },
  {
   "cell_type": "code",
   "execution_count": 18,
   "metadata": {
    "collapsed": false
   },
   "outputs": [],
   "source": [
    "x = range(0, 1001, 100)\n",
    "y_sgd = [loss - min(loss_hist_sgd) for i, loss in enumerate(loss_hist_sgd) if i % 100 == 0]\n",
    "y_newton = [loss - min(loss_hist_newton) for i, loss in enumerate(loss_hist_newton) if i % 100 == 0]"
   ]
  },
  {
   "cell_type": "code",
   "execution_count": 19,
   "metadata": {
    "collapsed": false
   },
   "outputs": [
    {
     "data": {
      "text/plain": [
       "(11, 11, 11)"
      ]
     },
     "execution_count": 19,
     "metadata": {},
     "output_type": "execute_result"
    }
   ],
   "source": [
    "len(x), len(y_sgd), len(y_newton)"
   ]
  },
  {
   "cell_type": "code",
   "execution_count": 20,
   "metadata": {
    "collapsed": false
   },
   "outputs": [
    {
     "data": {
      "image/png": "[encoded data removed]",
      "text/plain": [
       "<matplotlib.figure.Figure at 0x11ec0ab00>"
      ]
     },
     "metadata": {},
     "output_type": "display_data"
    }
   ],
   "source": [
    "plt.plot(x, y_sgd)\n",
    "ax = plt.gca()\n",
    "ax.set_yscale('log')\n",
    "plt.title(\"SGD loss plot\")\n",
    "plt.grid(which=\"both\")\n",
    "plt.show()"
   ]
  },
  {
   "cell_type": "code",
   "execution_count": 21,
   "metadata": {
    "collapsed": false
   },
   "outputs": [
    {
     "data": {
      "image/png": "[encoded data removed]",
      "text/plain": [
       "<matplotlib.figure.Figure at 0x11f623710>"
      ]
     },
     "metadata": {},
     "output_type": "display_data"
    }
   ],
   "source": [
    "plt.plot(x, y_newton)\n",
    "ax = plt.gca()\n",
    "ax.set_yscale('log')\n",
    "plt.title(\"Newton loss plot\")\n",
    "plt.grid(which=\"both\")\n",
    "plt.show()"
   ]
  },
  {
   "cell_type": "markdown",
   "metadata": {},
   "source": [
    "### 1-4 Multiclass version"
   ]
  },
  {
   "cell_type": "code",
   "execution_count": 22,
   "metadata": {
    "collapsed": true
   },
   "outputs": [],
   "source": [
    "# dataset 5\n",
    "n = 200\n",
    "x_d5 = 3 * (np.random.rand(n, 4) - 0.5)\n",
    "W = np.array([[ 2,  -1, 0.5,],\n",
    "              [-3,   2,   1,],\n",
    "              [ 1,   2,   3]])\n",
    "y_d5 = np.argmax(np.dot(np.hstack([x_d5[:,:2], np.ones((n, 1))]), W.T)\n",
    "                        + 0.5 * np.random.randn(n, 3), axis=1)\n",
    "w = np.random.rand(4) - 0.5"
   ]
  },
  {
   "cell_type": "code",
   "execution_count": 23,
   "metadata": {
    "collapsed": false
   },
   "outputs": [],
   "source": [
    "def loss_J_d5(w):\n",
    "    return np.sum([np.log(1+np.exp(-y_d5[i]*np.dot(x_d5[i], w))) for i in range(200)]) + lam*np.dot(w, w)\n",
    "\n",
    "def gradient_J_d5(w):\n",
    "    return np.sum([(np.exp(-y_d5[i]*np.dot(x_d5[i], w))*(-y_d5[i]*x_d5[i])) / (1+np.exp(-y_d5[i]*np.dot(x_d5[i], w))) for i in range(200)]) + 2*lam*w\n",
    "\n",
    "def double_gradient_J_d5(w):\n",
    "    matrix_i = np.zeros([4,4])\n",
    "    for i in range(200):\n",
    "        matrix_i = matrix_i + ((np.exp(-y_d5[i]*np.dot(x_d5[i], w))/(1+np.exp(-y_d5[i]*np.dot(x_d5[i], w))))*np.multiply([list(x) for x in list(zip(x_d5[i]))], x_d5[i]))\n",
    "    return matrix_i + 2*lam*np.eye(4)"
   ]
  },
  {
   "cell_type": "markdown",
   "metadata": {},
   "source": [
    "#### SGD"
   ]
  },
  {
   "cell_type": "code",
   "execution_count": 24,
   "metadata": {
    "collapsed": false
   },
   "outputs": [
    {
     "name": "stdout",
     "output_type": "stream",
     "text": [
      "iteration 0 loss: 151.241720937\n",
      "iteration 100 loss: 150.771771483\n",
      "iteration 200 loss: 150.308651945\n",
      "iteration 300 loss: 149.852389619\n",
      "iteration 400 loss: 149.403010848\n",
      "iteration 500 loss: 148.960541008\n",
      "iteration 600 loss: 148.525004475\n",
      "iteration 700 loss: 148.09642461\n",
      "iteration 800 loss: 147.674823732\n",
      "iteration 900 loss: 147.260223099\n",
      "optimization w : [-0.11566359 -0.17510748 -0.39152564  0.29113726]\n"
     ]
    }
   ],
   "source": [
    "alpha = 1e-6\n",
    "iteration_max = 1000\n",
    "w_sgd_hist = []\n",
    "loss_hist_sgd = []\n",
    "sgd_w = w\n",
    "\n",
    "for i in range(iteration_max):\n",
    "    w_sgd_hist.append(sgd_w)\n",
    "    loss_hist_sgd.append(loss_J(sgd_w))\n",
    "    if i % 100 == 0:\n",
    "        print(\"iteration \"+str(i)+\" loss: \"+str(loss_J(sgd_w)))\n",
    "        \n",
    "    sgd_w_min = sgd_w - alpha * gradient_J(w)\n",
    "    \n",
    "    if np.linalg.norm(sgd_w_min - sgd_w, ord=1) < alpha:\n",
    "        sgd_w = sgd_w_min\n",
    "        break\n",
    "    \n",
    "    sgd_w = sgd_w_min\n",
    "\n",
    "w_sgd_hist.append(sgd_w)\n",
    "loss_hist_sgd.append(loss_J(sgd_w))\n",
    "\n",
    "print(\"optimization w : \"+str(sgd_w))"
   ]
  },
  {
   "cell_type": "markdown",
   "metadata": {},
   "source": [
    "#### Newton 法"
   ]
  },
  {
   "cell_type": "code",
   "execution_count": 25,
   "metadata": {
    "collapsed": false
   },
   "outputs": [
    {
     "name": "stdout",
     "output_type": "stream",
     "text": [
      "iteration 0 loss: 151.241720937\n",
      "iteration 100 loss: 185.909578575\n",
      "iteration 200 loss: 184.790734777\n",
      "iteration 300 loss: 183.692356267\n",
      "iteration 400 loss: 182.614141013\n",
      "iteration 500 loss: 181.555790444\n",
      "iteration 600 loss: 180.517009388\n",
      "iteration 700 loss: 179.497506012\n",
      "iteration 800 loss: 178.496991763\n",
      "iteration 900 loss: 177.515181315\n"
     ]
    }
   ],
   "source": [
    "w_newton = w\n",
    "w_newton_hist = []\n",
    "loss_hist_newton = []\n",
    "for i in range(1000):\n",
    "    w_newton_hist.append(w_newton)\n",
    "    loss_hist_newton.append(loss_J(w_newton))\n",
    "    if i % 100 == 0:\n",
    "        print(\"iteration \"+str(i)+\" loss: \"+str(loss_J(w_newton)))\n",
    "    w_delta = np.linalg.solve(double_gradient_J(w_newton), -gradient_J(w_newton))\n",
    "    w_newton = w_newton + w_delta\n",
    "\n",
    "    if np.linalg.norm(w_delta) < 1e-10:\n",
    "        break\n",
    "\n",
    "w_newton_hist.append(w_newton)\n",
    "loss_hist_newton.append(loss_J(w_newton))"
   ]
  },
  {
   "cell_type": "markdown",
   "metadata": {},
   "source": [
    "## 問題2"
   ]
  },
  {
   "cell_type": "markdown",
   "metadata": {},
   "source": [
    "### 2-1"
   ]
  },
  {
   "cell_type": "code",
   "execution_count": 26,
   "metadata": {
    "collapsed": false
   },
   "outputs": [],
   "source": [
    "A = np.array([[3, 0.5], [0.5, 1]])\n",
    "mu = np.array([1, 2])\n",
    "gamma = 1/max(np.linalg.eig(2*A)[0])"
   ]
  },
  {
   "cell_type": "code",
   "execution_count": 27,
   "metadata": {
    "collapsed": true
   },
   "outputs": [],
   "source": [
    "def proximal_gradient(grad_f, prox, gamma, objective, w_init, tol=1e-9):\n",
    "    w = w_init\n",
    "    result = objective(w)\n",
    "    w_hist = []\n",
    "    while True:\n",
    "        w_hist.append(w)\n",
    "        w_new = prox(w - gamma * grad_f(w), gamma)\n",
    "        result_new = objective(w_new)\n",
    "        if (np.abs(result - result_new)/np.abs(result) < tol):\n",
    "            w = w_new\n",
    "            break;\n",
    "        w = w_new\n",
    "        result = result_new\n",
    "    w_hist.append(w)\n",
    "    \n",
    "    return w, result_new, w_hist\n",
    "\n",
    "def prox_norm1(v, gamma, lam):\n",
    "    return soft_thresh(v, lam * gamma)\n",
    "\n",
    "def soft_thresh(b, lam):\n",
    "    x_hat = np.zeros(b.shape[0])\n",
    "    x_hat[b >= lam] = b[b >= lam] - lam\n",
    "    x_hat[b <= -lam] = b[b <= -lam] + lam\n",
    "    return x_hat\n",
    "\n",
    "def ISTA(A, mu, lam, gamma):\n",
    "    objective = lambda x:np.dot((x-mu), np.dot(A, (x-mu))) + lam * np.sum(np.abs(x))\n",
    "    grad_f = lambda x: np.dot((A.T+A), (x-mu))\n",
    "    prox = lambda v, gamma:prox_norm1(v, gamma, lam)\n",
    "    w_init = np.random.randn(A.shape[1])\n",
    "    (w_hat, result, w_hist) = proximal_gradient(grad_f=grad_f, prox=prox, gamma=gamma, objective=objective, w_init=w_init)\n",
    "    return w_hat, result, w_hist"
   ]
  },
  {
   "cell_type": "code",
   "execution_count": 28,
   "metadata": {
    "collapsed": false
   },
   "outputs": [
    {
     "name": "stdout",
     "output_type": "stream",
     "text": [
      "[ 0.81816858  1.09096516]\n"
     ]
    },
    {
     "data": {
      "image/png": "[encoded data removed]",
      "text/plain": [
       "<matplotlib.figure.Figure at 0x11ed388d0>"
      ]
     },
     "metadata": {},
     "output_type": "display_data"
    },
    {
     "name": "stdout",
     "output_type": "stream",
     "text": [
      "[ 0.63638081  0.18174542]\n"
     ]
    },
    {
     "data": {
      "image/png": "[encoded data removed]",
      "text/plain": [
       "<matplotlib.figure.Figure at 0x11ed40080>"
      ]
     },
     "metadata": {},
     "output_type": "display_data"
    },
    {
     "name": "stdout",
     "output_type": "stream",
     "text": [
      "[ 0.33333189  0.        ]\n"
     ]
    },
    {
     "data": {
      "image/png": "[encoded data removed]",
      "text/plain": [
       "<matplotlib.figure.Figure at 0x1206eb400>"
      ]
     },
     "metadata": {},
     "output_type": "display_data"
    }
   ],
   "source": [
    "for lam in range(2, 7, 2):\n",
    "    w_hat, result, w_hist = ISTA(A, mu, lam, gamma)\n",
    "    w_hist = np.array(w_hist)\n",
    "    print(w_hat)\n",
    "    plt.plot([np.linalg.norm(hist-w_hat) for hist in w_hist])   \n",
    "    ax = plt.gca()\n",
    "    ax.set_yscale('log')\n",
    "    plt.title(\"w-w_hat plot\")\n",
    "    plt.grid(which=\"both\")\n",
    "    plt.show()"
   ]
  },
  {
   "cell_type": "markdown",
   "metadata": {},
   "source": [
    "### 2-2"
   ]
  },
  {
   "cell_type": "code",
   "execution_count": 29,
   "metadata": {
    "collapsed": false
   },
   "outputs": [
    {
     "data": {
      "image/png": "[encoded data removed]",
      "text/plain": [
       "<matplotlib.figure.Figure at 0x121003898>"
      ]
     },
     "metadata": {},
     "output_type": "display_data"
    }
   ],
   "source": [
    "w_hat_lam = []\n",
    "lams = np.arange(0, 6, 0.1)\n",
    "\n",
    "for lam in lams:\n",
    "### implement PG ###\n",
    "    w_hat, result, w_hist = ISTA(A, mu, lam, gamma)\n",
    "    w_hat_lam.append(w_hat)\n",
    "###\n",
    "w_hat_lam = np.array(w_hat_lam)\n",
    "plt.plot(lams, w_hat_lam.T[0], label=\"w1\")\n",
    "plt.plot(lams, w_hat_lam.T[1], label=\"w2\")\n",
    "plt.show()"
   ]
  },
  {
   "cell_type": "markdown",
   "metadata": {},
   "source": [
    "### 2-3"
   ]
  },
  {
   "cell_type": "code",
   "execution_count": 83,
   "metadata": {
    "collapsed": false
   },
   "outputs": [],
   "source": [
    "def proximal_gradient(grad_f, prox, gamma, objective, w_init, tol=1e-9):\n",
    "    w = w_init\n",
    "    result = objective(w)\n",
    "    for i in range(1000):\n",
    "        w_new = prox(w - gamma * grad_f(w), gamma)\n",
    "        result_new = objective(w_new)\n",
    "        if (np.abs(result - result_new)/np.abs(result) < tol):\n",
    "            break;\n",
    "        w = w_new\n",
    "        result = result_new\n",
    "    return w_new, result_new\n",
    "\n",
    "def prox_group_norm(v, gamma, lam, groups):\n",
    "    u = np.zeros(v.shape[0])\n",
    "    for i in range(0, max(groups)+1):\n",
    "        u[groups == i] = block_soft_thresh(v[groups == i] , gamma * lam)\n",
    "    return np.array([u]).T\n",
    "\n",
    "def block_soft_thresh(b, lam):\n",
    "    return max(0, 1 - lam/np.linalg.norm(b)) * b\n",
    "\n",
    "def group_ISTA(X, y, w_init, lam, gamma, groups):\n",
    "    objective = lambda w:np.sum(np.power(y - np.dot(X, w), 2))/2.0 + lam * np.sum(np.abs(w))\n",
    "    grad_f = lambda w: np.dot(X.T, np.dot(X, w) - y)\n",
    "    prox = lambda v, gamma:prox_group_norm(v, gamma, lam, groups)\n",
    "    (w_hat, result) = proximal_gradient(grad_f, prox, gamma, objective, w_init)\n",
    "    return w_hat, result"
   ]
  },
  {
   "cell_type": "code",
   "execution_count": 92,
   "metadata": {
    "collapsed": true
   },
   "outputs": [],
   "source": [
    "# dataset 6\n",
    "d_d6 = 200\n",
    "n_d6 = 180\n",
    "\n",
    "# we consider 5 groups where each group has 40 attributes\n",
    "groupSize = 5\n",
    "attrSize = 40\n",
    "g_d6 = np.arange(groupSize*attrSize).reshape(groupSize,-1)\n",
    "\n",
    "x_d6 = np.random.randn(n_d6, d_d6)\n",
    "noise_d6 = 0.5\n",
    "\n",
    "# we consider feature in group 1 and group 2 is activated.\n",
    "w_d6 = np.vstack([20 * np.random.randn(80, 1),\n",
    "                 np.zeros((120, 1)),\n",
    "                 5 * np.random.rand()])\n",
    "x_d6_tilde = np.hstack([x_d6, np.ones((n_d6, 1))])\n",
    "y_d6 = np.dot(x_d6_tilde, w_d6) + noise_d6 * np.random.randn(n_d6, 1)"
   ]
  },
  {
   "cell_type": "code",
   "execution_count": 93,
   "metadata": {
    "collapsed": false
   },
   "outputs": [
    {
     "name": "stderr",
     "output_type": "stream",
     "text": [
      "/Users/irokawa/.pyenv/versions/Anaconda3-4.0.0/lib/python3.5/site-packages/ipykernel/__main__.py:16: VisibleDeprecationWarning: boolean index did not match indexed array along dimension 0; dimension is 201 but corresponding boolean dimension is 200\n",
      "/Users/irokawa/.pyenv/versions/Anaconda3-4.0.0/lib/python3.5/site-packages/ipykernel/__main__.py:16: DeprecationWarning: assignment will raise an error in the future, most likely because your index result shape does not match the value array shape. You can use `arr.flat[index] = values` to keep the old behaviour.\n"
     ]
    }
   ],
   "source": [
    "g_d6 = np.arange(groupSize*attrSize) // 40\n",
    "\n",
    "w_hat, result = group_ISTA(X=x_d6_tilde, y = y_d6, w_init=w_d6, lam=0.2, gamma=gamma, groups=g_d6)"
   ]
  },
  {
   "cell_type": "code",
   "execution_count": 94,
   "metadata": {
    "collapsed": false
   },
   "outputs": [
    {
     "data": {
      "text/plain": [
       "array([[ nan],\n",
       "       [ nan],\n",
       "       [ nan],\n",
       "       [ nan],\n",
       "       [ nan],\n",
       "       [ nan],\n",
       "       [ nan],\n",
       "       [ nan],\n",
       "       [ nan],\n",
       "       [ nan],\n",
       "       [ nan],\n",
       "       [ nan],\n",
       "       [ nan],\n",
       "       [ nan],\n",
       "       [ nan],\n",
       "       [ nan],\n",
       "       [ nan],\n",
       "       [ nan],\n",
       "       [ nan],\n",
       "       [ nan],\n",
       "       [ nan],\n",
       "       [ nan],\n",
       "       [ nan],\n",
       "       [ nan],\n",
       "       [ nan],\n",
       "       [ nan],\n",
       "       [ nan],\n",
       "       [ nan],\n",
       "       [ nan],\n",
       "       [ nan],\n",
       "       [ nan],\n",
       "       [ nan],\n",
       "       [ nan],\n",
       "       [ nan],\n",
       "       [ nan],\n",
       "       [ nan],\n",
       "       [ nan],\n",
       "       [ nan],\n",
       "       [ nan],\n",
       "       [ nan],\n",
       "       [ nan],\n",
       "       [ nan],\n",
       "       [ nan],\n",
       "       [ nan],\n",
       "       [ nan],\n",
       "       [ nan],\n",
       "       [ nan],\n",
       "       [ nan],\n",
       "       [ nan],\n",
       "       [ nan],\n",
       "       [ nan],\n",
       "       [ nan],\n",
       "       [ nan],\n",
       "       [ nan],\n",
       "       [ nan],\n",
       "       [ nan],\n",
       "       [ nan],\n",
       "       [ nan],\n",
       "       [ nan],\n",
       "       [ nan],\n",
       "       [ nan],\n",
       "       [ nan],\n",
       "       [ nan],\n",
       "       [ nan],\n",
       "       [ nan],\n",
       "       [ nan],\n",
       "       [ nan],\n",
       "       [ nan],\n",
       "       [ nan],\n",
       "       [ nan],\n",
       "       [ nan],\n",
       "       [ nan],\n",
       "       [ nan],\n",
       "       [ nan],\n",
       "       [ nan],\n",
       "       [ nan],\n",
       "       [ nan],\n",
       "       [ nan],\n",
       "       [ nan],\n",
       "       [ nan],\n",
       "       [ nan],\n",
       "       [ nan],\n",
       "       [ nan],\n",
       "       [ nan],\n",
       "       [ nan],\n",
       "       [ nan],\n",
       "       [ nan],\n",
       "       [ nan],\n",
       "       [ nan],\n",
       "       [ nan],\n",
       "       [ nan],\n",
       "       [ nan],\n",
       "       [ nan],\n",
       "       [ nan],\n",
       "       [ nan],\n",
       "       [ nan],\n",
       "       [ nan],\n",
       "       [ nan],\n",
       "       [ nan],\n",
       "       [ nan],\n",
       "       [ nan],\n",
       "       [ nan],\n",
       "       [ nan],\n",
       "       [ nan],\n",
       "       [ nan],\n",
       "       [ nan],\n",
       "       [ nan],\n",
       "       [ nan],\n",
       "       [ nan],\n",
       "       [ nan],\n",
       "       [ nan],\n",
       "       [ nan],\n",
       "       [ nan],\n",
       "       [ nan],\n",
       "       [ nan],\n",
       "       [ nan],\n",
       "       [ nan],\n",
       "       [ nan],\n",
       "       [ nan],\n",
       "       [ nan],\n",
       "       [ nan],\n",
       "       [ nan],\n",
       "       [ nan],\n",
       "       [ nan],\n",
       "       [ nan],\n",
       "       [ nan],\n",
       "       [ nan],\n",
       "       [ nan],\n",
       "       [ nan],\n",
       "       [ nan],\n",
       "       [ nan],\n",
       "       [ nan],\n",
       "       [ nan],\n",
       "       [ nan],\n",
       "       [ nan],\n",
       "       [ nan],\n",
       "       [ nan],\n",
       "       [ nan],\n",
       "       [ nan],\n",
       "       [ nan],\n",
       "       [ nan],\n",
       "       [ nan],\n",
       "       [ nan],\n",
       "       [ nan],\n",
       "       [ nan],\n",
       "       [ nan],\n",
       "       [ nan],\n",
       "       [ nan],\n",
       "       [ nan],\n",
       "       [ nan],\n",
       "       [ nan],\n",
       "       [ nan],\n",
       "       [ nan],\n",
       "       [ nan],\n",
       "       [ nan],\n",
       "       [ nan],\n",
       "       [ nan],\n",
       "       [ nan],\n",
       "       [ nan],\n",
       "       [ nan],\n",
       "       [ nan],\n",
       "       [ nan],\n",
       "       [ nan],\n",
       "       [ nan],\n",
       "       [ nan],\n",
       "       [ nan],\n",
       "       [ nan],\n",
       "       [ nan],\n",
       "       [ nan],\n",
       "       [ nan],\n",
       "       [ nan],\n",
       "       [ nan],\n",
       "       [ nan],\n",
       "       [ nan],\n",
       "       [ nan],\n",
       "       [ nan],\n",
       "       [ nan],\n",
       "       [ nan],\n",
       "       [ nan],\n",
       "       [ nan],\n",
       "       [ nan],\n",
       "       [ nan],\n",
       "       [ nan],\n",
       "       [ nan],\n",
       "       [ nan],\n",
       "       [ nan],\n",
       "       [ nan],\n",
       "       [ nan],\n",
       "       [ nan],\n",
       "       [ nan],\n",
       "       [ nan],\n",
       "       [ nan],\n",
       "       [ nan],\n",
       "       [ nan],\n",
       "       [ nan],\n",
       "       [ nan],\n",
       "       [ nan],\n",
       "       [ nan],\n",
       "       [ nan],\n",
       "       [ nan],\n",
       "       [  0.]])"
      ]
     },
     "execution_count": 94,
     "metadata": {},
     "output_type": "execute_result"
    }
   ],
   "source": [
    "w_hat"
   ]
  },
  {
   "cell_type": "markdown",
   "metadata": {},
   "source": [
    "## 問題5"
   ]
  },
  {
   "cell_type": "code",
   "execution_count": 36,
   "metadata": {
    "collapsed": false
   },
   "outputs": [
    {
     "data": {
      "text/plain": [
       "[<matplotlib.lines.Line2D at 0x121046518>]"
      ]
     },
     "execution_count": 36,
     "metadata": {},
     "output_type": "execute_result"
    },
    {
     "data": {
      "image/png": "[encoded data removed]",
      "text/plain": [
       "<matplotlib.figure.Figure at 0x121046e80>"
      ]
     },
     "metadata": {},
     "output_type": "display_data"
    }
   ],
   "source": [
    "# dataset 1\n",
    "np.random.seed(123)\n",
    "n = 100\n",
    "x_d1 = 3 * (np.random.rand(n, 2)-0.5)\n",
    "radius = x_d1[:,0]**2 + x_d1[:,1]**2\n",
    "y_d1 = (radius > 0.7 + 0.1 * np.random.randn(n)) &( radius < 2.2 + 0.1 * np.random.randn(n))\n",
    "y_d1 = 2 * y_d1 -1\n",
    "\n",
    "plt.plot(x_d1[y_d1 < 0, 0],  x_d1[y_d1 < 0, 1], 'bs')\n",
    "plt.plot(x_d1[y_d1 > 0, 0],  x_d1[y_d1 > 0, 1], 'ro')"
   ]
  },
  {
   "cell_type": "code",
   "execution_count": 38,
   "metadata": {
    "collapsed": false
   },
   "outputs": [
    {
     "data": {
      "text/plain": [
       "array([ 1, -1, -1, -1, -1,  1,  1, -1,  1, -1,  1, -1,  1,  1, -1,  1, -1,\n",
       "       -1,  1,  1,  1, -1,  1,  1, -1, -1, -1, -1, -1,  1, -1, -1, -1,  1,\n",
       "        1, -1, -1, -1,  1,  1, -1, -1, -1,  1, -1, -1,  1, -1,  1,  1, -1,\n",
       "       -1, -1,  1,  1, -1,  1, -1, -1, -1, -1, -1, -1, -1,  1,  1,  1, -1,\n",
       "        1, -1,  1,  1, -1, -1,  1,  1,  1,  1,  1, -1,  1,  1,  1,  1, -1,\n",
       "        1, -1, -1, -1, -1,  1,  1,  1, -1,  1,  1, -1,  1, -1,  1])"
      ]
     },
     "execution_count": 38,
     "metadata": {},
     "output_type": "execute_result"
    }
   ],
   "source": [
    "y_d1"
   ]
  },
  {
   "cell_type": "code",
   "execution_count": null,
   "metadata": {
    "collapsed": true
   },
   "outputs": [],
   "source": []
  }
 ],
 "metadata": {
  "kernelspec": {
   "display_name": "Python 3",
   "language": "python",
   "name": "python3"
  },
  "language_info": {
   "codemirror_mode": {
    "name": "ipython",
    "version": 3
   },
   "file_extension": ".py",
   "mimetype": "text/x-python",
   "name": "python",
   "nbconvert_exporter": "python",
   "pygments_lexer": "ipython3",
   "version": "3.5.4"
  }
 },
 "nbformat": 4,
 "nbformat_minor": 0
}
