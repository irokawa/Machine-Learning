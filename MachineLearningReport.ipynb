{
 "cells": [
  {
   "cell_type": "code",
   "execution_count": 1,
   "metadata": {
    "collapsed": true
   },
   "outputs": [],
   "source": [
    "import numpy as np\n",
    "import pandas as pd\n",
    "import collections\n",
    "import matplotlib.pyplot as plt\n",
    "%matplotlib inline"
   ]
  },
  {
   "cell_type": "markdown",
   "metadata": {},
   "source": [
    "## 問題1"
   ]
  },
  {
   "cell_type": "code",
   "execution_count": 2,
   "metadata": {
    "collapsed": false
   },
   "outputs": [],
   "source": [
    "# dataset 4\n",
    "n = 200\n",
    "x_d4 = 3 * (np.random.rand(n, 4) - 0.5)\n",
    "y_d4 = (2 * x_d4[:, 0] - 1 * x_d4[:,1] + 0.5 + 0.5 * np.random.randn(n)) > 0\n",
    "y_d4 = 2 * y_d4 -1\n",
    "lam = 0.01\n",
    "w = np.random.rand(4) - 0.5"
   ]
  },
  {
   "cell_type": "code",
   "execution_count": 3,
   "metadata": {
    "collapsed": true
   },
   "outputs": [],
   "source": [
    "def function(w):\n",
    "    return np.array([1 if np.dot(x_d4[i], w) > 0 else -1 for i in range(200)])\n",
    "\n",
    "def loss_J(w):\n",
    "    return np.sum([np.log(1+np.exp(-y_d4[i]*np.dot(x_d4[i], w))) for i in range(200)]) + lam*np.dot(w, w)\n",
    "\n",
    "def gradient_J(w):\n",
    "    return np.sum([(np.exp(-y_d4[i]*np.dot(x_d4[i], w))*(-y_d4[i]*x_d4[i])) / (1+np.exp(-y_d4[i]*np.dot(x_d4[i], w))) for i in range(200)]) + 2*lam*w\n",
    "\n",
    "def double_gradient_J(w):\n",
    "    matrix_i = np.zeros([4,4])\n",
    "    for i in range(200):\n",
    "        matrix_i = matrix_i + ((np.exp(-y_d4[i]*np.dot(x_d4[i], w))/(1+np.exp(-y_d4[i]*np.dot(x_d4[i], w))))*np.multiply([list(x) for x in list(zip(x_d4[i]))], x_d4[i]))\n",
    "    return matrix_i + 2*lam*np.eye(4)"
   ]
  },
  {
   "cell_type": "code",
   "execution_count": 4,
   "metadata": {
    "collapsed": false
   },
   "outputs": [],
   "source": [
    "def count_pattern(w):\n",
    "    f = function(w)\n",
    "    print(\"[1, 1]: \"+str(sum([1 if y_d4[i] == 1 and f[i] == 1 else 0 for i in range(200)])))\n",
    "    print(\"[1, -1]: \"+str(sum([1 if y_d4[i] == 1 and f[i] == -1 else 0 for i in range(200)])))\n",
    "    print(\"[-1, 1]: \"+str(sum([1 if y_d4[i] == -1 and f[i] == 1 else 0 for i in range(200)])))\n",
    "    print(\"[-1, -1]: \"+str(sum([1 if y_d4[i] == -1 and f[i] == -1 else 0 for i in range(200)])))"
   ]
  },
  {
   "cell_type": "code",
   "execution_count": 5,
   "metadata": {
    "collapsed": false
   },
   "outputs": [
    {
     "name": "stdout",
     "output_type": "stream",
     "text": [
      "[1, 1]: 34\n",
      "[1, -1]: 77\n",
      "[-1, 1]: 66\n",
      "[-1, -1]: 23\n"
     ]
    }
   ],
   "source": [
    "count_pattern(w)"
   ]
  },
  {
   "cell_type": "markdown",
   "metadata": {},
   "source": [
    "### 1-1:最急降下法"
   ]
  },
  {
   "cell_type": "code",
   "execution_count": 6,
   "metadata": {
    "collapsed": false,
    "scrolled": true
   },
   "outputs": [
    {
     "name": "stdout",
     "output_type": "stream",
     "text": [
      "iteration 0 loss: 179.538310956\n",
      "iteration 100 loss: 178.972315956\n",
      "iteration 200 loss: 178.415021237\n",
      "iteration 300 loss: 177.866479069\n",
      "iteration 400 loss: 177.326740071\n",
      "iteration 500 loss: 176.795853147\n",
      "iteration 600 loss: 176.273865418\n",
      "iteration 700 loss: 175.760822158\n",
      "iteration 800 loss: 175.25676673\n",
      "iteration 900 loss: 174.761740526\n",
      "optimization w : [-0.24221288  0.43333613 -0.18348156 -0.38428394]\n"
     ]
    }
   ],
   "source": [
    "alpha = 1e-6\n",
    "iteration_max = 1000\n",
    "w_sgd_hist = []\n",
    "loss_hist_sgd = []\n",
    "sgd_w = w\n",
    "\n",
    "for i in range(iteration_max):\n",
    "    w_sgd_hist.append(sgd_w)\n",
    "    loss_hist_sgd.append(loss_J(sgd_w))\n",
    "    if i % 100 == 0:\n",
    "        print(\"iteration \"+str(i)+\" loss: \"+str(loss_J(sgd_w)))\n",
    "        \n",
    "    sgd_w_min = sgd_w - alpha * gradient_J(w)\n",
    "    \n",
    "    if np.linalg.norm(sgd_w_min - sgd_w, ord=1) < alpha:\n",
    "        sgd_w = sgd_w_min\n",
    "        break\n",
    "    \n",
    "    sgd_w = sgd_w_min\n",
    "\n",
    "w_sgd_hist.append(sgd_w)\n",
    "loss_hist_sgd.append(loss_J(sgd_w))\n",
    "\n",
    "print(\"optimization w : \"+str(sgd_w))"
   ]
  },
  {
   "cell_type": "code",
   "execution_count": 7,
   "metadata": {
    "collapsed": false
   },
   "outputs": [
    {
     "name": "stdout",
     "output_type": "stream",
     "text": [
      "[1, 1]: 33\n",
      "[1, -1]: 78\n",
      "[-1, 1]: 71\n",
      "[-1, -1]: 18\n"
     ]
    }
   ],
   "source": [
    "count_pattern(sgd_w)"
   ]
  },
  {
   "cell_type": "markdown",
   "metadata": {
    "collapsed": false
   },
   "source": [
    "### 1-2 Newton法"
   ]
  },
  {
   "cell_type": "code",
   "execution_count": 9,
   "metadata": {
    "collapsed": false
   },
   "outputs": [
    {
     "name": "stdout",
     "output_type": "stream",
     "text": [
      "iteration 0 loss: 179.538310956\n",
      "iteration 100 loss: 191.764428369\n",
      "iteration 200 loss: 190.465035103\n",
      "iteration 300 loss: 189.192723981\n",
      "iteration 400 loss: 187.946931149\n",
      "iteration 500 loss: 186.727108126\n",
      "iteration 600 loss: 185.532721079\n",
      "iteration 700 loss: 184.36325015\n",
      "iteration 800 loss: 183.218188817\n",
      "iteration 900 loss: 182.0970433\n"
     ]
    }
   ],
   "source": [
    "w_newton = w\n",
    "w_newton_hist = []\n",
    "loss_hist_newton = []\n",
    "for i in range(1000):\n",
    "    w_newton_hist.append(w_newton)\n",
    "    loss_hist_newton.append(loss_J(w_newton))\n",
    "    if i % 100 == 0:\n",
    "        print(\"iteration \"+str(i)+\" loss: \"+str(loss_J(w_newton)))\n",
    "    w_delta = np.linalg.solve(double_gradient_J(w_newton), -gradient_J(w_newton))\n",
    "    w_newton = w_newton + w_delta\n",
    "\n",
    "    if np.linalg.norm(w_delta) < 1e-10:\n",
    "        break\n",
    "\n",
    "w_newton_hist.append(w_newton)\n",
    "loss_hist_newton.append(loss_J(w_newton))"
   ]
  },
  {
   "cell_type": "code",
   "execution_count": 10,
   "metadata": {
    "collapsed": false
   },
   "outputs": [
    {
     "name": "stdout",
     "output_type": "stream",
     "text": [
      "optimization w: [-0.31772592  0.3578366  -0.25899343 -0.45979982]\n"
     ]
    }
   ],
   "source": [
    "loss_min = min(loss_hist_newton)\n",
    "w_newton_min = w_newton_hist[np.argmin(loss_hist_newton)]\n",
    "        \n",
    "print(\"optimization w: \"+str(w_newton_min))\n",
    "w_newton = w_newton_min"
   ]
  },
  {
   "cell_type": "code",
   "execution_count": 11,
   "metadata": {
    "collapsed": false
   },
   "outputs": [
    {
     "name": "stdout",
     "output_type": "stream",
     "text": [
      "[1, 1]: 34\n",
      "[1, -1]: 77\n",
      "[-1, 1]: 66\n",
      "[-1, -1]: 23\n"
     ]
    }
   ],
   "source": [
    "count_pattern(w_newton)"
   ]
  },
  {
   "cell_type": "markdown",
   "metadata": {},
   "source": [
    "### 1-3 loss plot"
   ]
  },
  {
   "cell_type": "code",
   "execution_count": 12,
   "metadata": {
    "collapsed": false
   },
   "outputs": [],
   "source": [
    "x = range(0, 1001, 100)\n",
    "y_sgd = [loss - min(loss_hist_sgd) for i, loss in enumerate(loss_hist_sgd) if i % 100 == 0]\n",
    "y_newton = [loss - min(loss_hist_newton) for i, loss in enumerate(loss_hist_newton) if i % 100 == 0]"
   ]
  },
  {
   "cell_type": "code",
   "execution_count": 13,
   "metadata": {
    "collapsed": false
   },
   "outputs": [
    {
     "data": {
      "text/plain": [
       "(11, 11, 11)"
      ]
     },
     "execution_count": 13,
     "metadata": {},
     "output_type": "execute_result"
    }
   ],
   "source": [
    "len(x), len(y_sgd), len(y_newton)"
   ]
  },
  {
   "cell_type": "code",
   "execution_count": 14,
   "metadata": {
    "collapsed": false
   },
   "outputs": [
    {
     "data": {
      "image/png": "[encoded data removed]",
      "text/plain": [
       "<matplotlib.figure.Figure at 0x1162f2780>"
      ]
     },
     "metadata": {},
     "output_type": "display_data"
    }
   ],
   "source": [
    "plt.plot(x, y_sgd)\n",
    "ax = plt.gca()\n",
    "ax.set_yscale('log')\n",
    "plt.title(\"SGD loss plot\")\n",
    "plt.grid(which=\"both\")\n",
    "plt.show()"
   ]
  },
  {
   "cell_type": "code",
   "execution_count": 15,
   "metadata": {
    "collapsed": false
   },
   "outputs": [
    {
     "data": {
      "image/png": "[encoded data removed]",
      "text/plain": [
       "<matplotlib.figure.Figure at 0x1184a32b0>"
      ]
     },
     "metadata": {},
     "output_type": "display_data"
    }
   ],
   "source": [
    "plt.plot(x, y_newton)\n",
    "ax = plt.gca()\n",
    "ax.set_yscale('log')\n",
    "plt.title(\"Newton loss plot\")\n",
    "plt.grid(which=\"both\")\n",
    "plt.show()"
   ]
  },
  {
   "cell_type": "markdown",
   "metadata": {},
   "source": [
    "### 1-4 Multiclass version"
   ]
  },
  {
   "cell_type": "code",
   "execution_count": 16,
   "metadata": {
    "collapsed": true
   },
   "outputs": [],
   "source": [
    "# dataset 5\n",
    "n = 200\n",
    "x_d5 = 3 * (np.random.rand(n, 4) - 0.5)\n",
    "W = np.array([[ 2,  -1, 0.5,],\n",
    "              [-3,   2,   1,],\n",
    "              [ 1,   2,   3]])\n",
    "y_d5 = np.argmax(np.dot(np.hstack([x_d5[:,:2], np.ones((n, 1))]), W.T)\n",
    "                        + 0.5 * np.random.randn(n, 3), axis=1)\n",
    "w = np.random.rand(4) - 0.5"
   ]
  },
  {
   "cell_type": "code",
   "execution_count": 17,
   "metadata": {
    "collapsed": false
   },
   "outputs": [],
   "source": [
    "def loss_J_d5(w):\n",
    "    return np.sum([np.log(1+np.exp(-y_d5[i]*np.dot(x_d5[i], w))) for i in range(200)]) + lam*np.dot(w, w)\n",
    "\n",
    "def gradient_J_d5(w):\n",
    "    return np.sum([(np.exp(-y_d5[i]*np.dot(x_d5[i], w))*(-y_d5[i]*x_d5[i])) / (1+np.exp(-y_d5[i]*np.dot(x_d5[i], w))) for i in range(200)]) + 2*lam*w\n",
    "\n",
    "def double_gradient_J_d5(w):\n",
    "    matrix_i = np.zeros([4,4])\n",
    "    for i in range(200):\n",
    "        matrix_i = matrix_i + ((np.exp(-y_d5[i]*np.dot(x_d5[i], w))/(1+np.exp(-y_d5[i]*np.dot(x_d5[i], w))))*np.multiply([list(x) for x in list(zip(x_d5[i]))], x_d5[i]))\n",
    "    return matrix_i + 2*lam*np.eye(4)"
   ]
  },
  {
   "cell_type": "markdown",
   "metadata": {},
   "source": [
    "#### SGD"
   ]
  },
  {
   "cell_type": "code",
   "execution_count": 18,
   "metadata": {
    "collapsed": false
   },
   "outputs": [
    {
     "name": "stdout",
     "output_type": "stream",
     "text": [
      "iteration 0 loss: 121.566456969\n",
      "iteration 100 loss: 121.459846478\n",
      "iteration 200 loss: 121.355002754\n",
      "iteration 300 loss: 121.251923736\n",
      "iteration 400 loss: 121.150607281\n",
      "iteration 500 loss: 121.051051157\n",
      "iteration 600 loss: 120.953253049\n",
      "iteration 700 loss: 120.857210557\n",
      "iteration 800 loss: 120.762921198\n",
      "iteration 900 loss: 120.670382406\n",
      "optimization w : [ 0.19338924 -0.34791596  0.23972274  0.26653528]\n"
     ]
    }
   ],
   "source": [
    "alpha = 1e-6\n",
    "iteration_max = 1000\n",
    "w_sgd_hist = []\n",
    "loss_hist_sgd = []\n",
    "sgd_w = w\n",
    "\n",
    "for i in range(iteration_max):\n",
    "    w_sgd_hist.append(sgd_w)\n",
    "    loss_hist_sgd.append(loss_J(sgd_w))\n",
    "    if i % 100 == 0:\n",
    "        print(\"iteration \"+str(i)+\" loss: \"+str(loss_J(sgd_w)))\n",
    "        \n",
    "    sgd_w_min = sgd_w - alpha * gradient_J(w)\n",
    "    \n",
    "    if np.linalg.norm(sgd_w_min - sgd_w, ord=1) < alpha:\n",
    "        sgd_w = sgd_w_min\n",
    "        break\n",
    "    \n",
    "    sgd_w = sgd_w_min\n",
    "\n",
    "w_sgd_hist.append(sgd_w)\n",
    "loss_hist_sgd.append(loss_J(sgd_w))\n",
    "\n",
    "print(\"optimization w : \"+str(sgd_w))"
   ]
  },
  {
   "cell_type": "markdown",
   "metadata": {},
   "source": [
    "#### Newton 法"
   ]
  },
  {
   "cell_type": "code",
   "execution_count": 19,
   "metadata": {
    "collapsed": false
   },
   "outputs": [
    {
     "name": "stdout",
     "output_type": "stream",
     "text": [
      "iteration 0 loss: 121.566456969\n",
      "iteration 100 loss: 167.805970356\n",
      "iteration 200 loss: 167.096344315\n",
      "iteration 300 loss: 166.39964669\n",
      "iteration 400 loss: 165.715681882\n",
      "iteration 500 loss: 165.044256361\n",
      "iteration 600 loss: 164.385178637\n",
      "iteration 700 loss: 163.738259243\n",
      "iteration 800 loss: 163.103310726\n",
      "iteration 900 loss: 162.480147637\n"
     ]
    }
   ],
   "source": [
    "w_newton = w\n",
    "w_newton_hist = []\n",
    "loss_hist_newton = []\n",
    "for i in range(1000):\n",
    "    w_newton_hist.append(w_newton)\n",
    "    loss_hist_newton.append(loss_J(w_newton))\n",
    "    if i % 100 == 0:\n",
    "        print(\"iteration \"+str(i)+\" loss: \"+str(loss_J(w_newton)))\n",
    "    w_delta = np.linalg.solve(double_gradient_J(w_newton), -gradient_J(w_newton))\n",
    "    w_newton = w_newton + w_delta\n",
    "\n",
    "    if np.linalg.norm(w_delta) < 1e-10:\n",
    "        break\n",
    "\n",
    "w_newton_hist.append(w_newton)\n",
    "loss_hist_newton.append(loss_J(w_newton))"
   ]
  },
  {
   "cell_type": "markdown",
   "metadata": {},
   "source": [
    "## 問題2"
   ]
  },
  {
   "cell_type": "markdown",
   "metadata": {},
   "source": [
    "### 2-1"
   ]
  },
  {
   "cell_type": "code",
   "execution_count": 20,
   "metadata": {
    "collapsed": false
   },
   "outputs": [],
   "source": [
    "A = np.array([[3, 0.5], [0.5, 1]])\n",
    "mu = np.array([1, 2])\n",
    "gamma = 1/max(np.linalg.eig(2*A)[0])"
   ]
  },
  {
   "cell_type": "code",
   "execution_count": 21,
   "metadata": {
    "collapsed": true
   },
   "outputs": [],
   "source": [
    "def proximal_gradient(grad_f, prox, gamma, objective, w_init, tol=1e-9):\n",
    "    w = w_init\n",
    "    result = objective(w)\n",
    "    w_hist = []\n",
    "    while True:\n",
    "        w_hist.append(w)\n",
    "        w_new = prox(w - gamma * grad_f(w), gamma)\n",
    "        result_new = objective(w_new)\n",
    "        if (np.abs(result - result_new)/np.abs(result) < tol):\n",
    "            w = w_new\n",
    "            break;\n",
    "        w = w_new\n",
    "        result = result_new\n",
    "    w_hist.append(w)\n",
    "    \n",
    "    return w, result_new, w_hist\n",
    "\n",
    "def prox_norm1(v, gamma, lam):\n",
    "    return soft_thresh(v, lam * gamma)\n",
    "\n",
    "def soft_thresh(b, lam):\n",
    "    x_hat = np.zeros(b.shape[0])\n",
    "    x_hat[b >= lam] = b[b >= lam] - lam\n",
    "    x_hat[b <= -lam] = b[b <= -lam] + lam\n",
    "    return x_hat\n",
    "\n",
    "def ISTA(A, mu, lam, gamma):\n",
    "    objective = lambda x:np.dot((x-mu), np.dot(A, (x-mu))) + lam * np.sum(np.abs(x))\n",
    "    grad_f = lambda x: np.dot((A.T+A), (x-mu))\n",
    "    prox = lambda v, gamma:prox_norm1(v, gamma, lam)\n",
    "    w_init = np.random.randn(A.shape[1])\n",
    "    (w_hat, result, w_hist) = proximal_gradient(grad_f=grad_f, prox=prox, gamma=gamma, objective=objective, w_init=w_init)\n",
    "    return w_hat, result, w_hist"
   ]
  },
  {
   "cell_type": "code",
   "execution_count": 22,
   "metadata": {
    "collapsed": false
   },
   "outputs": [
    {
     "name": "stdout",
     "output_type": "stream",
     "text": [
      "[ 0.81816841  1.09096587]\n"
     ]
    },
    {
     "data": {
      "image/png": "[encoded data removed]",
      "text/plain": [
       "<matplotlib.figure.Figure at 0x1163cfbe0>"
      ]
     },
     "metadata": {},
     "output_type": "display_data"
    },
    {
     "name": "stdout",
     "output_type": "stream",
     "text": [
      "[ 0.63638209  0.18174001]\n"
     ]
    },
    {
     "data": {
      "image/png": "[encoded data removed]",
      "text/plain": [
       "<matplotlib.figure.Figure at 0x11635c048>"
      ]
     },
     "metadata": {},
     "output_type": "display_data"
    },
    {
     "name": "stdout",
     "output_type": "stream",
     "text": [
      "[ 0.33333349  0.        ]\n"
     ]
    },
    {
     "data": {
      "image/png": "[encoded data removed]",
      "text/plain": [
       "<matplotlib.figure.Figure at 0x116bb7b00>"
      ]
     },
     "metadata": {},
     "output_type": "display_data"
    }
   ],
   "source": [
    "for lam in range(2, 7, 2):\n",
    "    w_hat, result, w_hist = ISTA(A, mu, lam, gamma)\n",
    "    w_hist = np.array(w_hist)\n",
    "    print(w_hat)\n",
    "    plt.plot([np.linalg.norm(hist-w_hat) for hist in w_hist])   \n",
    "    ax = plt.gca()\n",
    "    ax.set_yscale('log')\n",
    "    plt.title(\"w-w_hat plot\")\n",
    "    plt.grid(which=\"both\")\n",
    "    plt.show()"
   ]
  },
  {
   "cell_type": "markdown",
   "metadata": {},
   "source": [
    "### 2-2"
   ]
  },
  {
   "cell_type": "code",
   "execution_count": 23,
   "metadata": {
    "collapsed": false
   },
   "outputs": [
    {
     "data": {
      "image/png": "[encoded data removed]",
      "text/plain": [
       "<matplotlib.figure.Figure at 0x11c060ef0>"
      ]
     },
     "metadata": {},
     "output_type": "display_data"
    }
   ],
   "source": [
    "w_hat_lam = []\n",
    "lams = np.arange(0, 6, 0.1)\n",
    "\n",
    "for lam in lams:\n",
    "### implement PG ###\n",
    "    w_hat, result, w_hist = ISTA(A, mu, lam, gamma)\n",
    "    w_hat_lam.append(w_hat)\n",
    "###\n",
    "w_hat_lam = np.array(w_hat_lam)\n",
    "plt.plot(lams, w_hat_lam.T[0], label=\"w1\")\n",
    "plt.plot(lams, w_hat_lam.T[1], label=\"w2\")\n",
    "plt.show()"
   ]
  },
  {
   "cell_type": "markdown",
   "metadata": {},
   "source": [
    "### 2-3"
   ]
  },
  {
   "cell_type": "code",
   "execution_count": 73,
   "metadata": {
    "collapsed": false
   },
   "outputs": [],
   "source": [
    "def proximal_gradient(grad_f, prox, gamma, objective, w_init, tol=1e-5):\n",
    "    w = w_init\n",
    "    result = objective(w)\n",
    "    while(True):\n",
    "        w_new = prox(w - gamma * grad_f(w), gamma)\n",
    "        result_new = objective(w_new)\n",
    "        if (np.abs(result - result_new)/np.abs(result) < tol):\n",
    "            break;\n",
    "        w = w_new\n",
    "        result = result_new\n",
    "    return w_new, result_new\n",
    "\n",
    "def prox_group_norm(v, gamma, lam, groups):\n",
    "    u = np.zeros(v.shape[0])\n",
    "    for i in range(0, max(groups)+1):\n",
    "        u[groups == i] = block_soft_thresh(v[groups == i] , gamma * lam)\n",
    "    return np.array([u]).T\n",
    "\n",
    "def block_soft_thresh(b, lam):\n",
    "    return max(0, 1 - lam/np.linalg.norm(b)) * b\n",
    "\n",
    "def group_ISTA(X, y, w_init, lam, groups):\n",
    "    (u, l, v) = np.linalg.svd(X)\n",
    "    gamma = 1/max(l.real*l.real)\n",
    "    objective = lambda w:np.sum(np.power(y - np.dot(X, w), 2))/2.0 + lam * np.sum(np.abs(w))\n",
    "    grad_f = lambda w: np.dot(X.T, np.dot(X, w) - y)\n",
    "    prox = lambda v, gamma:prox_group_norm(v, gamma, lam, groups)\n",
    "    (w_hat, result) = proximal_gradient(grad_f, prox, gamma, objective, w_init)\n",
    "    return w_hat, result"
   ]
  },
  {
   "cell_type": "code",
   "execution_count": 74,
   "metadata": {
    "collapsed": true
   },
   "outputs": [],
   "source": [
    "# dataset 6\n",
    "d_d6 = 200\n",
    "n_d6 = 180\n",
    "\n",
    "# we consider 5 groups where each group has 40 attributes\n",
    "groupSize = 5\n",
    "attrSize = 40\n",
    "g_d6 = np.arange(groupSize*attrSize).reshape(groupSize,-1)\n",
    "\n",
    "x_d6 = np.random.randn(n_d6, d_d6)\n",
    "noise_d6 = 0.5\n",
    "\n",
    "# we consider feature in group 1 and group 2 is activated.\n",
    "w_d6 = np.vstack([20 * np.random.randn(80, 1),\n",
    "                 np.zeros((120, 1)),\n",
    "                 5 * np.random.rand()])\n",
    "x_d6_tilde = np.hstack([x_d6, np.ones((n_d6, 1))])\n",
    "y_d6 = np.dot(x_d6_tilde, w_d6) + noise_d6 * np.random.randn(n_d6, 1)"
   ]
  },
  {
   "cell_type": "code",
   "execution_count": 75,
   "metadata": {
    "collapsed": false
   },
   "outputs": [
    {
     "name": "stderr",
     "output_type": "stream",
     "text": [
      "/Users/irokawa/.pyenv/versions/Anaconda3-4.0.0/lib/python3.5/site-packages/ipykernel/__main__.py:16: VisibleDeprecationWarning: boolean index did not match indexed array along dimension 0; dimension is 201 but corresponding boolean dimension is 200\n",
      "/Users/irokawa/.pyenv/versions/Anaconda3-4.0.0/lib/python3.5/site-packages/ipykernel/__main__.py:16: DeprecationWarning: assignment will raise an error in the future, most likely because your index result shape does not match the value array shape. You can use `arr.flat[index] = values` to keep the old behaviour.\n"
     ]
    }
   ],
   "source": [
    "g_d6 = np.arange(groupSize*attrSize) // 40\n",
    "\n",
    "w_hat, result = group_ISTA(X=x_d6_tilde, y = y_d6, w_init=w_d6, lam=0.2, groups=g_d6)"
   ]
  },
  {
   "cell_type": "code",
   "execution_count": 76,
   "metadata": {
    "collapsed": false
   },
   "outputs": [
    {
     "data": {
      "text/plain": [
       "array([[ -1.97554654e+01],\n",
       "       [ -2.65784236e+01],\n",
       "       [ -2.24243532e+01],\n",
       "       [  2.85695664e+00],\n",
       "       [ -2.29155121e+01],\n",
       "       [ -9.89580565e+00],\n",
       "       [ -2.73304370e+01],\n",
       "       [  2.55062015e+01],\n",
       "       [  3.83044792e+01],\n",
       "       [ -9.17793534e-01],\n",
       "       [  1.79205773e+01],\n",
       "       [  4.12696001e+00],\n",
       "       [  3.24094625e+01],\n",
       "       [ -5.76276221e+00],\n",
       "       [ -2.81936817e+00],\n",
       "       [ -6.91692562e+00],\n",
       "       [  4.37220101e+01],\n",
       "       [ -6.23075172e+00],\n",
       "       [  8.69276355e-01],\n",
       "       [ -3.25929099e+00],\n",
       "       [  7.44590843e+00],\n",
       "       [  2.72898325e+00],\n",
       "       [ -1.74677035e+01],\n",
       "       [  3.73345641e-01],\n",
       "       [  3.22612932e+00],\n",
       "       [ -2.36624074e+01],\n",
       "       [ -1.15500455e+01],\n",
       "       [  2.62124914e+00],\n",
       "       [  3.65246388e+00],\n",
       "       [ -4.32657551e+01],\n",
       "       [  6.40054387e-01],\n",
       "       [ -3.31628185e+01],\n",
       "       [  2.88613874e+01],\n",
       "       [ -5.20484535e+01],\n",
       "       [ -7.01527721e+00],\n",
       "       [  3.00006239e+01],\n",
       "       [  1.82854988e+01],\n",
       "       [  6.77696596e+00],\n",
       "       [ -2.55560183e+01],\n",
       "       [  6.64571399e-01],\n",
       "       [ -5.10412932e+00],\n",
       "       [ -6.22884521e+00],\n",
       "       [ -7.16521881e+00],\n",
       "       [  8.40442940e+00],\n",
       "       [  2.78858209e+01],\n",
       "       [  9.25425083e+00],\n",
       "       [ -6.01716035e+00],\n",
       "       [ -1.10398930e+01],\n",
       "       [ -1.17523535e+01],\n",
       "       [ -1.15633442e+01],\n",
       "       [ -2.53249318e+00],\n",
       "       [  1.33865773e+01],\n",
       "       [  2.05906798e+01],\n",
       "       [ -4.27495253e+01],\n",
       "       [ -8.18741500e+00],\n",
       "       [  1.01940838e+01],\n",
       "       [  1.07615267e+01],\n",
       "       [ -3.20423348e+00],\n",
       "       [  1.42391548e+01],\n",
       "       [ -8.51019143e+00],\n",
       "       [  2.07428665e+01],\n",
       "       [ -3.20013230e+01],\n",
       "       [  1.23547332e+01],\n",
       "       [  2.38629541e+01],\n",
       "       [  2.27434528e+01],\n",
       "       [ -1.14737981e+01],\n",
       "       [ -4.60296346e+00],\n",
       "       [  6.98298563e+00],\n",
       "       [ -9.54942993e-01],\n",
       "       [ -2.35317770e+01],\n",
       "       [  2.68167497e+00],\n",
       "       [  8.53040508e+00],\n",
       "       [ -1.06673605e+01],\n",
       "       [  9.73752223e+00],\n",
       "       [ -1.42932094e+01],\n",
       "       [  1.78634338e+01],\n",
       "       [ -1.74315040e+01],\n",
       "       [ -1.27987193e+01],\n",
       "       [ -1.06747247e+01],\n",
       "       [  6.81119010e-01],\n",
       "       [  3.51920671e-01],\n",
       "       [  7.54771260e-01],\n",
       "       [ -5.73985861e-01],\n",
       "       [  8.61379052e-02],\n",
       "       [ -3.65063461e-01],\n",
       "       [  1.33750841e+00],\n",
       "       [  5.82576278e-01],\n",
       "       [  1.30099496e-01],\n",
       "       [ -2.25599770e+00],\n",
       "       [ -1.20540871e+00],\n",
       "       [  1.03507680e-01],\n",
       "       [ -3.40678534e-01],\n",
       "       [  6.72525624e-01],\n",
       "       [  5.83643386e-01],\n",
       "       [  1.44115864e-01],\n",
       "       [  1.07495903e+00],\n",
       "       [  8.00584006e-02],\n",
       "       [  6.62082260e-01],\n",
       "       [ -1.48092479e-03],\n",
       "       [  6.48824697e-01],\n",
       "       [ -1.82467383e-01],\n",
       "       [ -9.75217199e-01],\n",
       "       [ -7.55094908e-01],\n",
       "       [  2.00111496e-01],\n",
       "       [ -8.47915186e-01],\n",
       "       [  1.14101226e+00],\n",
       "       [  2.86105837e-01],\n",
       "       [ -9.75438242e-01],\n",
       "       [  4.79483336e-01],\n",
       "       [  7.10736930e-01],\n",
       "       [ -3.84450717e-01],\n",
       "       [ -4.28499859e-01],\n",
       "       [ -5.21588364e-01],\n",
       "       [ -4.09944854e-03],\n",
       "       [  1.24872000e+00],\n",
       "       [ -1.20596927e+00],\n",
       "       [  1.13284511e-01],\n",
       "       [ -2.67374497e-01],\n",
       "       [ -5.29098075e-01],\n",
       "       [  3.12392933e-01],\n",
       "       [ -2.56849093e-01],\n",
       "       [  2.09979195e+00],\n",
       "       [  1.56295668e+00],\n",
       "       [  1.50150658e+00],\n",
       "       [  1.26371988e+00],\n",
       "       [ -1.28599963e+00],\n",
       "       [ -1.03000639e+00],\n",
       "       [ -7.38688259e-01],\n",
       "       [  1.05338654e+00],\n",
       "       [ -4.08263013e-01],\n",
       "       [ -2.66004930e-01],\n",
       "       [ -2.13209438e-01],\n",
       "       [ -9.06513851e-01],\n",
       "       [ -9.83164125e-01],\n",
       "       [  1.17021797e+00],\n",
       "       [  1.11347323e+00],\n",
       "       [ -1.08424406e+00],\n",
       "       [ -1.95371674e-01],\n",
       "       [ -5.12319464e-02],\n",
       "       [ -6.70044115e-01],\n",
       "       [  1.26690246e+00],\n",
       "       [  1.04784752e+00],\n",
       "       [ -1.75184748e-01],\n",
       "       [ -3.27706135e-01],\n",
       "       [ -2.92157163e-01],\n",
       "       [  1.07016487e+00],\n",
       "       [  1.59816430e-01],\n",
       "       [ -5.16898302e-01],\n",
       "       [  5.23597228e-01],\n",
       "       [ -3.39211551e-01],\n",
       "       [  3.69290900e-01],\n",
       "       [ -6.63572962e-01],\n",
       "       [  1.49981952e+00],\n",
       "       [  3.56528141e-02],\n",
       "       [ -7.28546823e-01],\n",
       "       [  4.88472119e-01],\n",
       "       [  2.89389349e-01],\n",
       "       [ -1.05485165e+00],\n",
       "       [ -3.64840620e-01],\n",
       "       [ -9.20803149e-01],\n",
       "       [  5.55725423e-01],\n",
       "       [ -2.61729036e-01],\n",
       "       [ -1.67470943e-01],\n",
       "       [ -7.62384274e-01],\n",
       "       [  5.18027778e-01],\n",
       "       [ -5.03796744e-01],\n",
       "       [ -6.03771538e-01],\n",
       "       [ -2.70516715e-01],\n",
       "       [ -6.21266915e-01],\n",
       "       [ -6.26911282e-01],\n",
       "       [  9.51879900e-01],\n",
       "       [  2.72949090e-01],\n",
       "       [  1.41362103e-01],\n",
       "       [ -2.04259439e-01],\n",
       "       [ -5.24639951e-01],\n",
       "       [  1.67804626e-01],\n",
       "       [ -1.05663832e+00],\n",
       "       [  3.79120801e-01],\n",
       "       [ -1.31289482e+00],\n",
       "       [ -1.89572468e-02],\n",
       "       [  7.51464662e-01],\n",
       "       [ -5.21827631e-01],\n",
       "       [ -2.43986508e-01],\n",
       "       [ -5.63860172e-01],\n",
       "       [  6.96766939e-01],\n",
       "       [  7.42578229e-01],\n",
       "       [ -1.03079474e+00],\n",
       "       [  6.71071880e-01],\n",
       "       [ -5.94284207e-01],\n",
       "       [ -1.95481849e-01],\n",
       "       [  3.98177816e-01],\n",
       "       [ -8.50572082e-01],\n",
       "       [  9.67262257e-01],\n",
       "       [ -2.71869047e-01],\n",
       "       [  7.41585128e-01],\n",
       "       [ -8.59564123e-02],\n",
       "       [  1.31074737e-01],\n",
       "       [  1.00169635e+00],\n",
       "       [ -2.14116501e-01],\n",
       "       [ -2.83327596e-03],\n",
       "       [  0.00000000e+00]])"
      ]
     },
     "execution_count": 76,
     "metadata": {},
     "output_type": "execute_result"
    }
   ],
   "source": [
    "w_hat"
   ]
  }
 ],
 "metadata": {
  "kernelspec": {
   "display_name": "Python 3",
   "language": "python",
   "name": "python3"
  },
  "language_info": {
   "codemirror_mode": {
    "name": "ipython",
    "version": 3
   },
   "file_extension": ".py",
   "mimetype": "text/x-python",
   "name": "python",
   "nbconvert_exporter": "python",
   "pygments_lexer": "ipython3",
   "version": "3.5.4"
  }
 },
 "nbformat": 4,
 "nbformat_minor": 0
}
